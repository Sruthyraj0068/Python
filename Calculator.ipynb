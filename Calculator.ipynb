{
 "cells": [
  {
   "cell_type": "code",
   "execution_count": 27,
   "id": "4e79093f",
   "metadata": {},
   "outputs": [
    {
     "name": "stdout",
     "output_type": "stream",
     "text": [
      "Select the operation you want to perform\n",
      "1 - Addition\n",
      "2 -Substraction\n",
      "3 -Multplication\n",
      "4 - Divition\n",
      "Enter your choice : 9\n",
      "Invalid operation!!!!\n"
     ]
    }
   ],
   "source": [
    "print(\"Select the operation you want to perform\")\n",
    "print(\"1 - Addition\")\n",
    "print(\"2 -Substraction\")\n",
    "print(\"3 -Multiplication\")\n",
    "print(\"4 - Divition\")\n",
    "\n",
    "def invalid_op():\n",
    "    print(\"Invalid operation!!!!\")\n",
    "\n",
    "choice=int(input(\"Enter your choice : \"))\n",
    "if choice not in [1,2,3,4] :\n",
    "    invalid_op();\n",
    "    \n",
    "else:    \n",
    "    \n",
    "    n1=int(input(\"Enter first number : \"))\n",
    "    n2=int(input(\"Enter second number : \"))\n",
    "\n",
    "    if((n2==0 and choice==4 )):\n",
    "        invalid_op();\n",
    "    else:\n",
    "        if choice==1:\n",
    "            print(n1+n2)\n",
    "        elif  choice ==2:\n",
    "            print(n1-n2)\n",
    "        elif  choice==3:\n",
    "            print(n1*n2)\n",
    "        elif  choice==4:\n",
    "            print(n1/n2)\n",
    "    "
   ]
  },
  {
   "cell_type": "code",
   "execution_count": null,
   "id": "f5bde4b9",
   "metadata": {},
   "outputs": [],
   "source": []
  },
  {
   "cell_type": "code",
   "execution_count": null,
   "id": "d8a0b03d",
   "metadata": {},
   "outputs": [],
   "source": []
  },
  {
   "cell_type": "code",
   "execution_count": null,
   "id": "31413544",
   "metadata": {},
   "outputs": [],
   "source": []
  }
 ],
 "metadata": {
  "kernelspec": {
   "display_name": "Python 3 (ipykernel)",
   "language": "python",
   "name": "python3"
  },
  "language_info": {
   "codemirror_mode": {
    "name": "ipython",
    "version": 3
   },
   "file_extension": ".py",
   "mimetype": "text/x-python",
   "name": "python",
   "nbconvert_exporter": "python",
   "pygments_lexer": "ipython3",
   "version": "3.9.13"
  }
 },
 "nbformat": 4,
 "nbformat_minor": 5
}
