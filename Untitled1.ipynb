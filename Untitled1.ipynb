{
 "cells": [
  {
   "cell_type": "markdown",
   "id": "f6670eeb",
   "metadata": {},
   "source": [
    "You are given two strings word1 and word2. Merge the strings by adding letters in alternating order, starting with word1. If a string is longer than the other, append the additional letters onto the end of the merged string.\n",
    "\n",
    "Return the merged string."
   ]
  },
  {
   "cell_type": "code",
   "execution_count": 9,
   "id": "aa58ad92",
   "metadata": {},
   "outputs": [
    {
     "name": "stdout",
     "output_type": "stream",
     "text": [
      "quwieorptlkj\n"
     ]
    }
   ],
   "source": [
    "word1=\"qwert\"\n",
    "word2=\"uioplkj\"\n",
    "\n",
    "result=[]\n",
    "i=0\n",
    "j=0\n",
    "while i<len(word1) and j<len(word2):\n",
    "    result.append(word1[i])\n",
    "    result.append(word2[j])\n",
    "    i=i+1\n",
    "    j=j+1\n",
    "if i<len(word1):\n",
    "    result+=word1[i:]\n",
    "if j<len(word2):\n",
    "    result+=word2[j:]\n",
    "print(''.join(result))                \n",
    "\n",
    "        "
   ]
  },
  {
   "cell_type": "code",
   "execution_count": 7,
   "id": "ec18e3b5",
   "metadata": {},
   "outputs": [
    {
     "data": {
      "text/plain": [
       "'qetuolj'"
      ]
     },
     "execution_count": 7,
     "metadata": {},
     "output_type": "execute_result"
    }
   ],
   "source": [
    "p\n"
   ]
  },
  {
   "cell_type": "code",
   "execution_count": null,
   "id": "287f61a0",
   "metadata": {},
   "outputs": [],
   "source": []
  }
 ],
 "metadata": {
  "kernelspec": {
   "display_name": "Python 3 (ipykernel)",
   "language": "python",
   "name": "python3"
  },
  "language_info": {
   "codemirror_mode": {
    "name": "ipython",
    "version": 3
   },
   "file_extension": ".py",
   "mimetype": "text/x-python",
   "name": "python",
   "nbconvert_exporter": "python",
   "pygments_lexer": "ipython3",
   "version": "3.9.13"
  }
 },
 "nbformat": 4,
 "nbformat_minor": 5
}
